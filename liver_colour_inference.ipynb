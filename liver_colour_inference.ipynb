{
  "cells": [
    {
      "cell_type": "markdown",
      "metadata": {
        "id": "view-in-github",
        "colab_type": "text"
      },
      "source": [
        "<a href=\"https://colab.research.google.com/github/elmahmudi/color-segmentation/blob/ali/liver_colour_inference.ipynb\" target=\"_parent\"><img src=\"https://colab.research.google.com/assets/colab-badge.svg\" alt=\"Open In Colab\"/></a>"
      ]
    },
    {
      "cell_type": "markdown",
      "id": "7d70dfe3",
      "metadata": {
        "id": "7d70dfe3"
      },
      "source": [
        "### OCI Data Science - Useful Tips\n",
        "<details>\n",
        "<summary><font size=\"2\">Check for Public Internet Access</font></summary>\n",
        "\n",
        "```python\n",
        "import requests\n",
        "response = requests.get(\"https://oracle.com\")\n",
        "assert response.status_code==200, \"Internet connection failed\"\n",
        "```\n",
        "</details>\n",
        "<details>\n",
        "<summary><font size=\"2\">Helpful Documentation </font></summary>\n",
        "<ul><li><a href=\"https://docs.cloud.oracle.com/en-us/iaas/data-science/using/data-science.htm\">Data Science Service Documentation</a></li>\n",
        "<li><a href=\"https://docs.cloud.oracle.com/iaas/tools/ads-sdk/latest/index.html\">ADS documentation</a></li>\n",
        "</ul>\n",
        "</details>\n",
        "<details>\n",
        "<summary><font size=\"2\">Typical Cell Imports and Settings for ADS</font></summary>\n",
        "\n",
        "```python\n",
        "%load_ext autoreload\n",
        "%autoreload 2\n",
        "%matplotlib inline\n",
        "\n",
        "import warnings\n",
        "warnings.filterwarnings('ignore')\n",
        "\n",
        "import logging\n",
        "logging.basicConfig(format='%(levelname)s:%(message)s', level=logging.ERROR)\n",
        "\n",
        "import ads\n",
        "from ads.dataset.factory import DatasetFactory\n",
        "from ads.automl.provider import OracleAutoMLProvider\n",
        "from ads.automl.driver import AutoML\n",
        "from ads.evaluations.evaluator import ADSEvaluator\n",
        "from ads.common.data import ADSData\n",
        "from ads.explanations.explainer import ADSExplainer\n",
        "from ads.explanations.mlx_global_explainer import MLXGlobalExplainer\n",
        "from ads.explanations.mlx_local_explainer import MLXLocalExplainer\n",
        "from ads.catalog.model import ModelCatalog\n",
        "from ads.common.model_artifact import ModelArtifact\n",
        "```\n",
        "</details>\n",
        "<details>\n",
        "<summary><font size=\"2\">Useful Environment Variables</font></summary>\n",
        "\n",
        "```python\n",
        "import os\n",
        "print(os.environ[\"NB_SESSION_COMPARTMENT_OCID\"])\n",
        "print(os.environ[\"PROJECT_OCID\"])\n",
        "print(os.environ[\"USER_OCID\"])\n",
        "print(os.environ[\"TENANCY_OCID\"])\n",
        "print(os.environ[\"NB_REGION\"])\n",
        "```\n",
        "</details>"
      ]
    },
    {
      "cell_type": "code",
      "execution_count": 3,
      "id": "90d30ba2",
      "metadata": {
        "colab": {
          "base_uri": "https://localhost:8080/"
        },
        "id": "90d30ba2",
        "outputId": "a28025ff-c562-4aae-e83e-23473cebb376"
      },
      "outputs": [
        {
          "output_type": "stream",
          "name": "stdout",
          "text": [
            "model is loaded\n",
            "The predicted score for the input image is:  0.8\n"
          ]
        },
        {
          "output_type": "stream",
          "name": "stderr",
          "text": [
            "/usr/local/lib/python3.10/dist-packages/sklearn/base.py:318: UserWarning: Trying to unpickle estimator DecisionTreeRegressor from version 1.0.1 when using version 1.2.2. This might lead to breaking code or invalid results. Use at your own risk. For more info please refer to:\n",
            "https://scikit-learn.org/stable/model_persistence.html#security-maintainability-limitations\n",
            "  warnings.warn(\n",
            "/usr/local/lib/python3.10/dist-packages/sklearn/base.py:318: UserWarning: Trying to unpickle estimator RandomForestRegressor from version 1.0.1 when using version 1.2.2. This might lead to breaking code or invalid results. Use at your own risk. For more info please refer to:\n",
            "https://scikit-learn.org/stable/model_persistence.html#security-maintainability-limitations\n",
            "  warnings.warn(\n"
          ]
        }
      ],
      "source": [
        "import os\n",
        "from PIL import Image\n",
        "import joblib\n",
        "import template as tem\n",
        "\n",
        "# liver_colour_models\n",
        "# model path\n",
        "model_path = 'liver_colour_RFR_model_v1.joblib'\n",
        "# load model and predict\n",
        "model = joblib.load(model_path)\n",
        "print('model is loaded')\n",
        "\n",
        "def inference_function(features):\n",
        "    features = features.reshape(1, -1)\n",
        "    # get prediction of input features\n",
        "    predict_score = model.predict(features)[0]\n",
        "\n",
        "    # adjust prediction bound. Prediction is always between 0 and 3\n",
        "    if predict_score < 0:\n",
        "        predict_score = 0.0000\n",
        "    elif predict_score > 3:\n",
        "        predict_score = 3.0000\n",
        "\n",
        "    return predict_score\n",
        "\n",
        "\n",
        "if __name__ == '__main__':\n",
        "\n",
        "    # image path\n",
        "    file = 'image164.jpg'\n",
        "\n",
        "    # check if the input image is exist\n",
        "    if not os.path.isfile(file):\n",
        "        print(file, ' Not exist')\n",
        "        exit()\n",
        "    # Extract texture features\n",
        "    liver_img = Image.open(file)\n",
        "    # extract features\n",
        "    features_ = tem.feature_extraction(liver_img)\n",
        "    if len(features_) == 0:\n",
        "        print('There are not features')\n",
        "        exit()\n",
        "\n",
        "    prediction = inference_function(features_)\n",
        "    print('The predicted score for the input image is: ', prediction)\n"
      ]
    },
    {
      "cell_type": "code",
      "execution_count": null,
      "id": "20224a98",
      "metadata": {
        "colab": {
          "base_uri": "https://localhost:8080/",
          "height": 269
        },
        "id": "20224a98",
        "outputId": "ef8bb6c2-47d6-440f-e3db-0fd3ba4a0fb6"
      },
      "outputs": [
        {
          "output_type": "stream",
          "name": "stdout",
          "text": [
            "Collecting joblib==1.2.0\n",
            "  Downloading joblib-1.2.0-py3-none-any.whl (297 kB)\n",
            "\u001b[2K     \u001b[90m━━━━━━━━━━━━━━━━━━━━━━━━━━━━━━━━━━━━━━━\u001b[0m \u001b[32m298.0/298.0 kB\u001b[0m \u001b[31m4.9 MB/s\u001b[0m eta \u001b[36m0:00:00\u001b[0m\n",
            "\u001b[?25hInstalling collected packages: joblib\n",
            "  Attempting uninstall: joblib\n",
            "    Found existing installation: joblib 1.3.2\n",
            "    Uninstalling joblib-1.3.2:\n",
            "      Successfully uninstalled joblib-1.3.2\n",
            "Successfully installed joblib-1.2.0\n"
          ]
        },
        {
          "output_type": "display_data",
          "data": {
            "application/vnd.colab-display-data+json": {
              "pip_warning": {
                "packages": [
                  "joblib"
                ]
              }
            }
          },
          "metadata": {}
        }
      ],
      "source": [
        "!pip install joblib==1.2.0"
      ]
    },
    {
      "cell_type": "code",
      "execution_count": null,
      "id": "555c0c63",
      "metadata": {
        "id": "555c0c63"
      },
      "outputs": [],
      "source": []
    }
  ],
  "metadata": {
    "kernelspec": {
      "display_name": "Python [conda env:tensorflow28_p38_cpu_v1]",
      "language": "python",
      "name": "conda-env-tensorflow28_p38_cpu_v1-py"
    },
    "language_info": {
      "codemirror_mode": {
        "name": "ipython",
        "version": 3
      },
      "file_extension": ".py",
      "mimetype": "text/x-python",
      "name": "python",
      "nbconvert_exporter": "python",
      "pygments_lexer": "ipython3",
      "version": "3.8.13"
    },
    "colab": {
      "provenance": [],
      "include_colab_link": true
    }
  },
  "nbformat": 4,
  "nbformat_minor": 5
}